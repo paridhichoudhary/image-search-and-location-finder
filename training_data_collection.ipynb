{
 "cells": [
  {
   "cell_type": "code",
   "execution_count": 34,
   "metadata": {},
   "outputs": [],
   "source": [
    "import sys\n",
    "import tkinter\n",
    "from selenium import webdriver\n",
    "from tkinter import messagebox\n",
    "import urllib\n",
    "import time\n",
    "import re,codecs\n",
    "import pandas as pd\n",
    "from selenium.common.exceptions import NoSuchElementException"
   ]
  },
  {
   "cell_type": "code",
   "execution_count": 35,
   "metadata": {},
   "outputs": [],
   "source": [
    "from keras.models import load_model\n",
    "model = load_model('./top_layers_v2.iv3.hdf5')"
   ]
  },
  {
   "cell_type": "code",
   "execution_count": 36,
   "metadata": {},
   "outputs": [],
   "source": [
    "root = tkinter.Tk()\n",
    "root.withdraw()\n",
    "\n",
    "capabilities = {\n",
    "    'browserName': 'chrome',\n",
    "    'chrome.detach': True,\n",
    "    'chromeOptions': {\n",
    "        'useAutomationExtension': False,\n",
    "        'forceDevToolsScreenshot': True,\n",
    "        'args': ['--start-maximized', '--disable-infobars']\n",
    "    }\n",
    "}\n",
    "# driver = webdriver.Chrome(desired_capabilities=capabilities)\n",
    "options = webdriver.ChromeOptions()\n",
    "options.add_experimental_option(\"useAutomationExtension\", False)\n",
    "driver = webdriver.Chrome(r\"C:\\CHROMEDRIVER\\chromedriver\", desired_capabilities=capabilities)\n",
    "driver2 = webdriver.Chrome(r\"C:\\CHROMEDRIVER\\chromedriver\", desired_capabilities=capabilities)\n",
    "\n",
    "# accounts = ['voyaged','bruisedpassports','nationalparkservice','nxplore','doyoutravel','michiwohlleben','heykelseyj','Funlifecrisis','jannikobenhoff','chrisburkard','theglobewanderer','erubes1','alexstrohl','nateinthewild','scottslawinski','visualsofjulius','ilhan1077','niels.meiser','Nortrip','mittvestland','nevinixavier','theolator','Helpwphoto','mrdanielhan','dr.iyasar','ninjarod','Kayvanhuesseling','jordhammond']\n",
    "iceland_accounts = ['frederikopdeweegh','iceland','aurorareykjavik','lost.in.iceland','stunningicelandd','eyeofshe','beyondthelands','Josefwittibschlager','icelandtravel','patheight','withluke','erychist','the.newborn','arnarkristjans_photography','hiddeniceland','unlimitediceland','katcraats','mbeiter','meeeeeeexx','your_nordic','inspiredbyiceland','dreamchasersiceland','Icelandic_explorer','arvids']\n",
    "# iceland_accounts = ['mbeiter','arvids','icelandtravel']"
   ]
  },
  {
   "cell_type": "code",
   "execution_count": 37,
   "metadata": {},
   "outputs": [],
   "source": [
    "driver.get(\"https://www.instagram.com/accounts/login/\")\n",
    "driver2.get(\"https://www.instagram.com/accounts/login/\")\n",
    "time.sleep(2)"
   ]
  },
  {
   "cell_type": "code",
   "execution_count": 38,
   "metadata": {},
   "outputs": [],
   "source": [
    "username = driver.find_element_by_xpath('//*[@id=\"react-root\"]/section/main/div/article/div/div[1]/div/form/div[2]/div/label/input')\n",
    "password = driver.find_element_by_xpath('//*[@id=\"react-root\"]/section/main/div/article/div/div[1]/div/form/div[3]/div/label/input')\n",
    "username.send_keys(\"choudharyparidhi\")\n",
    "password.send_keys(\"Tooshort2bsad!\")\n",
    "driver.find_element_by_xpath('//*[@id=\"react-root\"]/section/main/div/article/div/div[1]/div/form/div[4]/button').click()\n",
    "username = driver2.find_element_by_xpath('//*[@id=\"react-root\"]/section/main/div/article/div/div[1]/div/form/div[2]/div/label/input')\n",
    "password = driver2.find_element_by_xpath('//*[@id=\"react-root\"]/section/main/div/article/div/div[1]/div/form/div[3]/div/label/input')\n",
    "username.send_keys(\"\")\n",
    "password.send_keys(\"\")\n",
    "driver2.find_element_by_xpath('//*[@id=\"react-root\"]/section/main/div/article/div/div[1]/div/form/div[4]/button').click()\n",
    "time.sleep(2)"
   ]
  },
  {
   "cell_type": "code",
   "execution_count": 39,
   "metadata": {},
   "outputs": [],
   "source": [
    "save_address = \"./app_iceland\""
   ]
  },
  {
   "cell_type": "code",
   "execution_count": 40,
   "metadata": {},
   "outputs": [],
   "source": [
    "from bs4 import BeautifulSoup\n",
    "def getLatLong(driver,link):\n",
    "    fp = driver.get(link)\n",
    "    source = driver.page_source\n",
    "    soup = BeautifulSoup(source)\n",
    "    latitude_tag = soup.find(\"meta\",  property=\"place:location:latitude\")\n",
    "    longitude_tag = soup.find(\"meta\",  property=\"place:location:longitude\")\n",
    "    latitude = latitude_tag[\"content\"] if latitude_tag else None\n",
    "    longitude = longitude_tag[\"content\"] if longitude_tag else None\n",
    "    return latitude, longitude"
   ]
  },
  {
   "cell_type": "code",
   "execution_count": 41,
   "metadata": {},
   "outputs": [],
   "source": [
    "latest_dates = pd.read_csv(\"artists_latest_post.csv\")"
   ]
  },
  {
   "cell_type": "code",
   "execution_count": 42,
   "metadata": {},
   "outputs": [],
   "source": [
    "latest_dates['latest_post_date'] = latest_dates['latest_post_date'].apply(lambda x: x[:4]+\"-\"+x[5:7]+\"-\"+x[8:10]+\"T\"+x[11:13]+\":\"+x[14:16]+\".\"+x[17:19]+\"Z\")"
   ]
  },
  {
   "cell_type": "code",
   "execution_count": 2,
   "metadata": {},
   "outputs": [],
   "source": [
    "import scipy as sp\n",
    "import PIL\n",
    "import scipy.ndimage as spi\n",
    "import matplotlib.pyplot as plt\n",
    "import glob\n",
    "import numpy as np\n",
    "import pandas as pd\n",
    "import h5py\n",
    "import os\n",
    "from math import ceil, sqrt\n",
    "import tensorflow as tf\n",
    "from imageio import imread\n",
    "from PIL import Image\n",
    "from keras.models import load_model\n",
    "from keras import backend as K\n",
    "test_images = []\n",
    "data_info = []\n",
    "# f_read = codecs.open(\"data_app_iceland.txt\",\"w\",encoding='utf-8-sig')\n",
    "for account_name in iceland_accounts:\n",
    "    try:\n",
    "        if account_name in list(latest_dates['artist']):\n",
    "            latest_post_by_artist = list(latest_dates[latest_dates['artist']==account_name]['latest_post_date'])[0]\n",
    "            link_add = \"https://www.instagram.com/\"+account_name+\"/\"\n",
    "            hrefs = []\n",
    "            driver.get(link_add)\n",
    "            time.sleep(1)\n",
    "            num_posts = (driver.find_element_by_xpath('//*[@id=\"react-root\"]/section/main/div/header/section/ul/li[1]/span/span').text)\n",
    "            num_posts = int(num_posts.replace(',',''))\n",
    "            max_num_posts = min(num_posts,10)\n",
    "            elems = driver.find_elements_by_css_selector(\".v1Nh3.kIKUG._bz0w\")\n",
    "            for x in elems:\n",
    "                hrefs.append(x.find_element_by_xpath(\".//a\").get_attribute(\"href\"))\n",
    "            i=0\n",
    "            while len(hrefs)<max_num_posts:\n",
    "                driver.execute_script(\"window.scrollTo(0, document.body.scrollHeight);\")\n",
    "                time.sleep(1)\n",
    "                if i==0:\n",
    "                    start_index = 12\n",
    "                elif i==1:\n",
    "                    start_index = 24\n",
    "                else:\n",
    "                    start_index = 30\n",
    "                elems = driver.find_elements_by_css_selector(\".v1Nh3.kIKUG._bz0w\")\n",
    "                for x in elems[start_index:]:\n",
    "                    hrefs.append(x.find_element_by_xpath(\".//a\").get_attribute(\"href\"))    \n",
    "            for href in hrefs:\n",
    "                try:\n",
    "                    driver.get(href)\n",
    "                    current_img_time = driver.find_elements_by_tag_name(\"time\")[0].get_attribute(\"datetime\")\n",
    "                    print(current_img_time)\n",
    "                    if current_img_time<=latest_post_by_artist:\n",
    "                        break\n",
    "                    else:\n",
    "                        id_ = account_name+\"_\"+current_img_time.replace(\"-\",\"_\").replace(\":\",\"_\").replace(\"T\",\"_\")\n",
    "                        try:\n",
    "                            location_link = (driver.find_element_by_xpath('//*[@id=\"react-root\"]/section/main/div/div/article/header/div[2]/div[2]/div[2]/a').get_attribute(\"href\"))\n",
    "                            latitude, longitude = getLatLong(driver2,location_link)\n",
    "                        except NoSuchElementException as e:\n",
    "                            latitude, longitude = [None,None]\n",
    "                            pass\n",
    "                        datetime = current_img_time\n",
    "                        images = (driver.find_elements_by_tag_name(\"img\"))\n",
    "                        link_image = (images[1].get_attribute(\"srcset\").split(\",\")[-1].split(\" \")[0])\n",
    "                        driver.get(link_image)\n",
    "                        img = driver.find_element_by_tag_name(\"img\")\n",
    "                        src = img.get_attribute('src')\n",
    "                        filename = save_address+\"/\"+id_+\".png\"\n",
    "                        urllib.request.urlretrieve(src,filename)\n",
    "                        im1 = Image.open(filename)\n",
    "                        im2 = im1.resize((299, 299), Image.NEAREST)\n",
    "                        test_image = np.array(im2)\n",
    "                        test_images.append(test_image)\n",
    "                        data_info.append([id_,account_name,datetime,str(latitude),str(longitude),filename])\n",
    "                except Exception as e:\n",
    "                    print(str(e))\n",
    "                    continue\n",
    "    except Exception as e:\n",
    "        print(e)\n",
    "        continue\n",
    "test_images = np.array(test_images)\n",
    "data_info = np.array(data_info)\n",
    "f_read.close()"
   ]
  },
  {
   "cell_type": "code",
   "execution_count": 47,
   "metadata": {},
   "outputs": [
    {
     "name": "stdout",
     "output_type": "stream",
     "text": [
      "(234, 299, 299, 3)\n",
      "234/234 [==============================] - 214s 913ms/step\n"
     ]
    }
   ],
   "source": [
    "from keras.preprocessing.image import ImageDataGenerator, load_img, img_to_array, array_to_img\n",
    "from sklearn.preprocessing import OneHotEncoder\n",
    "%matplotlib inline\n",
    "np.random.seed(42)\n",
    "print(test_images.shape)\n",
    "enc = OneHotEncoder(sparse=False)\n",
    "categories = np.array(['geyser','glacier','road','northern lights','sea','mountain','people','waterfall']).reshape(8,1)\n",
    "enc.fit_transform(categories)\n",
    "predictions_enc = model.predict(test_images,verbose=1)\n",
    "predictions_unenc = enc.inverse_transform(predictions_enc)"
   ]
  },
  {
   "cell_type": "code",
   "execution_count": 57,
   "metadata": {},
   "outputs": [],
   "source": [
    "def calculateDistance(i1, i2):\n",
    "    return np.sqrt(np.sum((i1-i2)**2))"
   ]
  },
  {
   "cell_type": "code",
   "execution_count": 58,
   "metadata": {},
   "outputs": [
    {
     "data": {
      "text/plain": [
       "5124.807313450917"
      ]
     },
     "execution_count": 58,
     "metadata": {},
     "output_type": "execute_result"
    }
   ],
   "source": [
    "calculateDistance(test_images[0],match_with_images[0])"
   ]
  },
  {
   "cell_type": "code",
   "execution_count": 1,
   "metadata": {},
   "outputs": [],
   "source": [
    "distances = np.array(distances)\n",
    "city_state_location = np.array(city_state_location)\n",
    "match_with_images = np.array(match_with_images)\n",
    "np.column_stack((match_with_images,city_state_location))"
   ]
  },
  {
   "cell_type": "code",
   "execution_count": 70,
   "metadata": {},
   "outputs": [],
   "source": [
    "match_with_images = []\n",
    "city_state_location = []\n",
    "import codecs\n",
    "with codecs.open(\"iceland_mountain_lat_long_city_state.txt\",'r',encoding=\"utf-8-sig\") as f:\n",
    "    for line in f:\n",
    "        elems = line.strip(\"r\").split(\"|\")\n",
    "        storage_location,latitude,longitude,city,state = elems\n",
    "        if ((latitude is None or longitude is None) or (latitude=='64.830555555556' and longitude=='-17.986666666667')):\n",
    "            continue\n",
    "        else:\n",
    "            im1 = Image.open(storage_location)\n",
    "            im2 = im1.resize((299, 299), Image.NEAREST)\n",
    "            test_image = np.array(im2)\n",
    "            match_with_images.append(test_image)\n",
    "            city_state_location.append([latitude,longitude,city,state])"
   ]
  }
 ],
 "metadata": {
  "kernelspec": {
   "display_name": "Python 3",
   "language": "python",
   "name": "python3"
  },
  "language_info": {
   "codemirror_mode": {
    "name": "ipython",
    "version": 3
   },
   "file_extension": ".py",
   "mimetype": "text/x-python",
   "name": "python",
   "nbconvert_exporter": "python",
   "pygments_lexer": "ipython3",
   "version": "3.7.4"
  }
 },
 "nbformat": 4,
 "nbformat_minor": 2
}
