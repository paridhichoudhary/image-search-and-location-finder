{
 "cells": [
  {
   "cell_type": "code",
   "execution_count": 1,
   "metadata": {},
   "outputs": [],
   "source": [
    "import pandas as pd\n",
    "import numpy as np\n",
    "import csv, re\n",
    "import os\n",
    "import codecs\n",
    "import time\n",
    "import geopy"
   ]
  },
  {
   "cell_type": "code",
   "execution_count": 4,
   "metadata": {},
   "outputs": [],
   "source": [
    "geolocator = geopy.geocoders.GoogleV3(timeout=3)"
   ]
  },
  {
   "cell_type": "code",
   "execution_count": 11,
   "metadata": {},
   "outputs": [],
   "source": [
    "def get_city_state_from_geocoordinates(lat_long_file,name_city_state_file):\n",
    "    lat_long_comb = []\n",
    "    count=0\n",
    "    with codecs.open(lat_long_file,\"r\",encoding='utf-8-sig') as f:\n",
    "        for line in f:\n",
    "            count+=1\n",
    "            elems = line.strip(\"\\n\").split(\"|\")\n",
    "            latitude = elems[1]\n",
    "            longitude = elems[2]\n",
    "            comb = latitude+\",\"+longitude\n",
    "            if comb not in lat_long_comb: \n",
    "                lat_long_comb.append(comb)\n",
    "    print(len(lat_long_comb))\n",
    "    f.close()\n",
    "    count = 0\n",
    "    lat_long_add_dict = {}\n",
    "    for comb in lat_long_comb:\n",
    "        count+=1\n",
    "        print(count)\n",
    "        try:\n",
    "            location = geolocator.reverse(comb)\n",
    "            add_dict  = location.raw['address']\n",
    "            country_code = add_dict['country_code']\n",
    "            if country_code=='is':\n",
    "                put_in_list = [None,None]\n",
    "                if 'state_district' in add_dict.keys():\n",
    "                    put_in_list[0] = add_dict['state_district']\n",
    "                if 'city' in add_dict.keys():\n",
    "                    put_in_list[1] = add_dict['city']\n",
    "                elif 'town' in add_dict.keys():\n",
    "                    put_in_list[1] = add_dict['town']\n",
    "                elif 'county' in add_dict.keys():\n",
    "                    put_in_list[1] = add_dict['county']\n",
    "                lat_long_add_dict[comb] = put_in_list\n",
    "            time.sleep(0.5)\n",
    "        except Exception as e:\n",
    "            print(str(e))\n",
    "            continue\n",
    "    lat_long_comb = []\n",
    "    w = codecs.open(name_city_state_file,\"w\",encoding='utf-8-sig')\n",
    "    with codecs.open(lat_long_file,\"r\",encoding='utf-8-sig') as f:\n",
    "        for line in f:\n",
    "            elems = line.strip(\"\\n\").split(\"|\")\n",
    "            latitude = elems[1]\n",
    "            longitude = elems[2]\n",
    "            comb = latitude+\",\"+longitude\n",
    "            try:\n",
    "                city,state = lat_long_add_dict[comb]\n",
    "#                 print(city,state)\n",
    "                w.write(line.strip(\"\\n\")+\"|\"+city+\"|\"+state+\"\\n\")\n",
    "            except Exception as e:\n",
    "                print(e)\n",
    "                continue\n",
    "    w.close()\n",
    "    f.close()"
   ]
  },
  {
   "cell_type": "code",
   "execution_count": 12,
   "metadata": {},
   "outputs": [],
   "source": [
    "get_city_state_from_geocoordinates(\"iceland_glacier_lat_long.txt\",\"iceland_glacier_lat_long_city_state.txt\")"
   ]
  },
  {
   "cell_type": "code",
   "execution_count": 13,
   "metadata": {},
   "outputs": [],
   "source": [
    "get_city_state_from_geocoordinates(\"iceland_road_lat_long.txt\",\"iceland_road_lat_long_city_state.txt\")"
   ]
  },
  {
   "cell_type": "code",
   "execution_count": 14,
   "metadata": {},
   "outputs": [],
   "source": [
    "get_city_state_from_geocoordinates(\"iceland_waterfall_lat_long.txt\",\"iceland_waterfall_lat_long_city_state.txt\")"
   ]
  },
  {
   "cell_type": "code",
   "execution_count": 15,
   "metadata": {},
   "outputs": [],
   "source": [
    "get_city_state_from_geocoordinates(\"iceland_sea_lat_long.txt\",\"iceland_sea_lat_long_city_state.txt\")"
   ]
  },
  {
   "cell_type": "code",
   "execution_count": 16,
   "metadata": {},
   "outputs": [],
   "source": [
    "get_city_state_from_geocoordinates(\"iceland_geyser_lat_long.txt\",\"iceland_geyser_lat_long_city_state.txt\")"
   ]
  },
  {
   "cell_type": "code",
   "execution_count": 18,
   "metadata": {},
   "outputs": [],
   "source": [
    "get_city_state_from_geocoordinates(\"iceland_mountain_lat_long.txt\",\"iceland_mountain_lat_long_city_state.txt\")"
   ]
  },
  {
   "cell_type": "code",
   "execution_count": null,
   "metadata": {},
   "outputs": [],
   "source": []
  }
 ],
 "metadata": {
  "kernelspec": {
   "display_name": "Python 3",
   "language": "python",
   "name": "python3"
  },
  "language_info": {
   "codemirror_mode": {
    "name": "ipython",
    "version": 3
   },
   "file_extension": ".py",
   "mimetype": "text/x-python",
   "name": "python",
   "nbconvert_exporter": "python",
   "pygments_lexer": "ipython3",
   "version": "3.7.4"
  }
 },
 "nbformat": 4,
 "nbformat_minor": 2
}
