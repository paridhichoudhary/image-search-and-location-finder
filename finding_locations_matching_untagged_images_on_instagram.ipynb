{
 "cells": [
  {
   "cell_type": "code",
   "execution_count": 1,
   "metadata": {},
   "outputs": [
    {
     "name": "stderr",
     "output_type": "stream",
     "text": [
      "Using TensorFlow backend.\n"
     ]
    }
   ],
   "source": [
    "import re\n",
    "import codecs\n",
    "import random\n",
    "from PIL import Image\n",
    "import numpy as np\n",
    "import pandas as pd\n",
    "from keras.preprocessing import image\n",
    "from keras.models import load_model\n",
    "from keras import backend as K\n",
    "# This line must be executed before loading Keras model.\n",
    "K.set_learning_phase(0)\n",
    "import os"
   ]
  },
  {
   "cell_type": "code",
   "execution_count": 2,
   "metadata": {},
   "outputs": [],
   "source": [
    "def calculateDistance(i1, i2):\n",
    "    return np.sqrt(np.sum((i1-i2)**2))"
   ]
  },
  {
   "cell_type": "code",
   "execution_count": 3,
   "metadata": {},
   "outputs": [],
   "source": [
    "def find_images_to_find_in(class_):\n",
    "    match_with_images = []\n",
    "    city_state_location = []\n",
    "    class_file = r\"iceland_\"+class_.replace(\" \",\"_\")+\"_lat_long_city_state.txt\"\n",
    "    with codecs.open(class_file, 'r', encoding=\"utf-8-sig\") as f:\n",
    "        for line in f:\n",
    "            elems = line.strip(\"\\r|\\n\").split(\"|\")\n",
    "            storage_location, latitude, longitude, city, state = elems\n",
    "            image_location = storage_location\n",
    "            try:\n",
    "                im1 = Image.open(image_location)\n",
    "                im2 = im1.resize((299, 299), Image.NEAREST)\n",
    "                test_image = np.array(im2)\n",
    "                match_with_images.append(test_image)\n",
    "                city_state_location.append(storage_location.replace(r\"C:\\Users\\bg532fh\\Documents\\Personal\\Kaggle\\Vacation Destination\\intel-image-classification\\Dataset\\\\\",\"\")+\",\"+city+\",\"+state)\n",
    "            except Exception as e:\n",
    "                continue\n",
    "    return match_with_images,city_state_location"
   ]
  },
  {
   "cell_type": "code",
   "execution_count": 5,
   "metadata": {},
   "outputs": [
    {
     "name": "stdout",
     "output_type": "stream",
     "text": [
      "geyser done\n",
      "glacier done\n",
      "road done\n",
      "northern lights done\n",
      "waterfall done\n",
      "mountain done\n",
      "sea done\n"
     ]
    }
   ],
   "source": [
    "geyser_match_with_images,geyser_city_state_location = find_images_to_find_in(\"geyser\")\n",
    "print(\"geyser done\")\n",
    "glacier_match_with_images,glacier_city_state_location = find_images_to_find_in(\"glacier\")\n",
    "print(\"glacier done\")\n",
    "road_match_with_images,road_city_state_location = find_images_to_find_in(\"road\")\n",
    "print(\"road done\")\n",
    "northern_lights_match_with_images,northern_lights_city_state_location = find_images_to_find_in(\"northern lights\")\n",
    "print(\"northern lights done\")\n",
    "waterfall_match_with_images,waterfall_city_state_location = find_images_to_find_in(\"waterfall\")\n",
    "print(\"waterfall done\")\n",
    "mountain_match_with_images,mountain_city_state_location = find_images_to_find_in(\"mountain\")\n",
    "print(\"mountain done\")\n",
    "sea_match_with_images,sea_city_state_location = find_images_to_find_in(\"sea\")\n",
    "print(\"sea done\")"
   ]
  },
  {
   "cell_type": "code",
   "execution_count": 18,
   "metadata": {},
   "outputs": [],
   "source": [
    "app_iceland_results_file = codecs.open(\"app_iceland_results.txt\",\"w\",encoding=\"utf-8-sig\")"
   ]
  },
  {
   "cell_type": "code",
   "execution_count": 12,
   "metadata": {},
   "outputs": [],
   "source": [
    "def find_top_three_images(img,match_with_images,city_state_location):\n",
    "    match_with_images = list(match_with_images)\n",
    "    distances = pd.Series(match_with_images).apply(lambda x: calculateDistance(img, x))\n",
    "    indexes = (distances.nsmallest(n=3, keep='first').index)\n",
    "    results = []\n",
    "    for i,city in enumerate(pd.Series(city_state_location)[indexes]):\n",
    "        results.append(city)\n",
    "    return results"
   ]
  },
  {
   "cell_type": "code",
   "execution_count": 1,
   "metadata": {},
   "outputs": [],
   "source": [
    "f = open(r\"app_scrolling_window.txt\")\n",
    "locations = f.read()\n",
    "matches = re.findall(r\"(.*?),(.*)\\n\",locations)\n",
    "count=0\n",
    "for i,rec in enumerate(matches):\n",
    "    count+=1\n",
    "    print(count)\n",
    "    location = rec[0]\n",
    "    class_ = rec[1]\n",
    "    img = image.load_img(\"app_iceland\\\\\"+location, target_size=(299, 299))\n",
    "    # Preprocessing the image\n",
    "    img = image.img_to_array(img)\n",
    "    if class_==\"mountain\":\n",
    "        results = find_top_three_images(img, mountain_match_with_images,mountain_city_state_location)\n",
    "    elif class_==\"sea\":\n",
    "        results = find_top_three_images(img, sea_match_with_images,sea_city_state_location)\n",
    "    elif class_==\"road\":\n",
    "        results = find_top_three_images(img, road_match_with_images,road_city_state_location)\n",
    "    elif class_==\"waterfall\":\n",
    "        results = find_top_three_images(img, waterfall_match_with_images,waterfall_city_state_location)\n",
    "    elif class_==\"northern lights\":\n",
    "        results = find_top_three_images(img, northern_lights_match_with_images,northern_lights_city_state_location)\n",
    "    elif class_==\"geyser\":\n",
    "        results = find_top_three_images(img, geyser_match_with_images,geyser_city_state_location)\n",
    "    elif class_==\"glacier\":\n",
    "        results = find_top_three_images(img, glacier_match_with_images,glacier_city_state_location)\n",
    "    else:\n",
    "        results=[\"\",\"\",\"\"]\n",
    "    \"|\".join(results)\n",
    "    match_string = location+\"|\"+class_+\"|\"+\"|\".join(results)+'\\n'\n",
    "    app_iceland_results_file.write(match_string)\n",
    "app_iceland_results_file.close()"
   ]
  },
  {
   "cell_type": "code",
   "execution_count": 28,
   "metadata": {},
   "outputs": [],
   "source": [
    "model = load_model('./top_layers_v2.iv3.hdf5')"
   ]
  },
  {
   "cell_type": "code",
   "execution_count": 2,
   "metadata": {},
   "outputs": [],
   "source": [
    "instagram_images = []\n",
    "instagram_locations=[]\n",
    "instagram_loc = r\"app_iceland\\\\\"\n",
    "for file in os.listdir(instagram_loc):\n",
    "    im1 = Image.open(instagram_loc+file)\n",
    "    im2 = im1.resize((299, 299), Image.NEAREST)\n",
    "    test_image = np.array(im2)\n",
    "    instagram_images.append(test_image)\n",
    "    print(file)\n",
    "    instagram_locations.append(file)"
   ]
  },
  {
   "cell_type": "code",
   "execution_count": 3,
   "metadata": {},
   "outputs": [
    {
     "name": "stderr",
     "output_type": "stream",
     "text": [
      "Using TensorFlow backend.\n"
     ]
    }
   ],
   "source": [
    "from keras.preprocessing.image import ImageDataGenerator, load_img, img_to_array, array_to_img\n",
    "from sklearn.preprocessing import OneHotEncoder\n",
    "np.random.seed(42)\n",
    "enc = OneHotEncoder(sparse=False)\n",
    "categories = np.array(['geyser','glacier','road','northern lights','sea','mountain','people','waterfall']).reshape(8,1)\n",
    "enc.fit_transform(categories)"
   ]
  },
  {
   "cell_type": "code",
   "execution_count": 33,
   "metadata": {},
   "outputs": [
    {
     "name": "stdout",
     "output_type": "stream",
     "text": [
      "236/236 [==============================] - 184s 778ms/step\n"
     ]
    }
   ],
   "source": [
    "predictions_enc = model.predict(np.array(instagram_images),verbose=1)\n",
    "predictions_unenc = enc.inverse_transform(predictions_enc)"
   ]
  },
  {
   "cell_type": "code",
   "execution_count": 50,
   "metadata": {},
   "outputs": [],
   "source": [
    "app_scrolling_window_file = open(\"app_iceland_results.txt\",\"w\")"
   ]
  },
  {
   "cell_type": "code",
   "execution_count": 4,
   "metadata": {},
   "outputs": [],
   "source": [
    "count=0\n",
    "for i in range(len(instagram_locations)):\n",
    "    count+=1\n",
    "    print(count)\n",
    "    app_scrolling_window_file.write(instagram_locations[i]+\",\"+predictions_unenc[i][0]+\"\\n\")"
   ]
  },
  {
   "cell_type": "code",
   "execution_count": 51,
   "metadata": {},
   "outputs": [],
   "source": [
    "app_scrolling_window_file.close()"
   ]
  },
  {
   "cell_type": "code",
   "execution_count": null,
   "metadata": {},
   "outputs": [],
   "source": []
  }
 ],
 "metadata": {
  "kernelspec": {
   "display_name": "Python 3",
   "language": "python",
   "name": "python3"
  },
  "language_info": {
   "codemirror_mode": {
    "name": "ipython",
    "version": 3
   },
   "file_extension": ".py",
   "mimetype": "text/x-python",
   "name": "python",
   "nbconvert_exporter": "python",
   "pygments_lexer": "ipython3",
   "version": "3.7.4"
  }
 },
 "nbformat": 4,
 "nbformat_minor": 2
}
